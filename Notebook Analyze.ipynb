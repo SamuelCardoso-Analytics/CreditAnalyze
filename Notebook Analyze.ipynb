{
 "cells": [
  {
   "cell_type": "markdown",
   "metadata": {
    "application/vnd.databricks.v1+cell": {
     "cellMetadata": {},
     "inputWidgets": {},
     "nuid": "7abd9508-9f9a-4ee7-8d8c-2269a5131b05",
     "showTitle": false,
     "tableResultSettingsMap": {},
     "title": ""
    }
   },
   "source": [
    "%md\n",
    "### Impacto do aumento da Taxa de Juros na Carteira de Crédito dos bancos"
   ]
  },
  {
   "cell_type": "code",
   "execution_count": 0,
   "metadata": {
    "application/vnd.databricks.v1+cell": {
     "cellMetadata": {},
     "inputWidgets": {},
     "nuid": "bd1e22c3-51c9-4d24-8a59-0c0cd0b714af",
     "showTitle": false,
     "tableResultSettingsMap": {},
     "title": ""
    }
   },
   "outputs": [],
   "source": [
    "from pyspark.sql import SparkSession\n",
    "import requests"
   ]
  },
  {
   "cell_type": "code",
   "execution_count": 0,
   "metadata": {
    "application/vnd.databricks.v1+cell": {
     "cellMetadata": {},
     "collapsed": true,
     "inputWidgets": {},
     "nuid": "9c777e3c-0966-411b-b09a-08125690aac2",
     "showTitle": false,
     "tableResultSettingsMap": {},
     "title": ""
    }
   },
   "outputs": [],
   "source": [
    "# TAXA DE JUROS ACUMULADA (SELIC)\n",
    "\n",
    "codigo = '1178'\n",
    "api = 'https://api.bcb.gov.br/dados/serie/bcdata.sgs.{}/dados?formato=json'.format(codigo)\n",
    "\n",
    "spark = SparkSession.builder.appName('Bacen').getOrCreate()\n",
    "requisicao = requests.get(api)\n",
    "\n",
    "data = requisicao.json()\n",
    "df = spark.createDataFrame(data)\n",
    "\n",
    "display(df)"
   ]
  },
  {
   "cell_type": "code",
   "execution_count": 0,
   "metadata": {
    "application/vnd.databricks.v1+cell": {
     "cellMetadata": {},
     "collapsed": true,
     "inputWidgets": {},
     "nuid": "e02a37cd-279d-4432-991c-183daafdd276",
     "showTitle": false,
     "tableResultSettingsMap": {},
     "title": ""
    }
   },
   "outputs": [],
   "source": [
    "# TAXA DE INADIMPLENCIA\n",
    "\n",
    "codigo = '13673'\n",
    "api = 'https://api.bcb.gov.br/dados/serie/bcdata.sgs.{}/dados?formato=json'.format(codigo)\n",
    "\n",
    "spark = SparkSession.builder.appName('Bacen').getOrCreate()\n",
    "requisicao = requests.get(api)\n",
    "\n",
    "data = requisicao.json()\n",
    "df = spark.createDataFrame(data)\n",
    "\n",
    "display(df)"
   ]
  },
  {
   "cell_type": "code",
   "execution_count": 0,
   "metadata": {
    "application/vnd.databricks.v1+cell": {
     "cellMetadata": {},
     "collapsed": true,
     "inputWidgets": {},
     "nuid": "ed1d8f4e-a8af-42b5-93d8-13efa435b1e3",
     "showTitle": false,
     "tableResultSettingsMap": {},
     "title": ""
    }
   },
   "outputs": [],
   "source": [
    "# TAXA MÉDIA DE JUROS DE CRÉDITO \n",
    "\n",
    "codigo = '20714'\n",
    "api = 'https://api.bcb.gov.br/dados/serie/bcdata.sgs.{}/dados?formato=json'.format(codigo)\n",
    "\n",
    "spark = SparkSession.builder.appName('Bacen').getOrCreate()\n",
    "requisicao = requests.get(api)\n",
    "\n",
    "data = requisicao.json()\n",
    "df = spark.createDataFrame(data)\n",
    "\n",
    "display(df)"
   ]
  },
  {
   "cell_type": "code",
   "execution_count": 0,
   "metadata": {
    "application/vnd.databricks.v1+cell": {
     "cellMetadata": {},
     "inputWidgets": {},
     "nuid": "83e829b6-cc4e-437d-b6f0-039ef5c35441",
     "showTitle": false,
     "tableResultSettingsMap": {},
     "title": ""
    }
   },
   "outputs": [],
   "source": [
    "codigo = '20539'\n",
    "api = 'https://api.bcb.gov.br/dados/serie/bcdata.sgs.{}/dados?formato=json'.format(codigo)\n",
    "\n",
    "spark = SparkSession.builder.appName('Bacen').getOrCreate()\n",
    "requisicao = requests.get(api)\n",
    "\n",
    "data = requisicao.json()\n",
    "df = spark.createDataFrame(data)\n",
    "\n",
    "display(df)"
   ]
  }
 ],
 "metadata": {
  "application/vnd.databricks.v1+notebook": {
   "computePreferences": null,
   "dashboards": [],
   "environmentMetadata": {
    "base_environment": "",
    "environment_version": "2"
   },
   "language": "python",
   "notebookMetadata": {
    "pythonIndentUnit": 4
   },
   "notebookName": "Notebook Analyze",
   "widgets": {}
  },
  "language_info": {
   "name": "python"
  }
 },
 "nbformat": 4,
 "nbformat_minor": 0
}
