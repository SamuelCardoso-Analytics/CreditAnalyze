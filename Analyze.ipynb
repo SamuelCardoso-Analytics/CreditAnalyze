{
 "cells": [
  {
   "cell_type": "markdown",
   "metadata": {
    "application/vnd.databricks.v1+cell": {
     "cellMetadata": {
      "byteLimit": 2048000,
      "rowLimit": 10000
     },
     "inputWidgets": {},
     "nuid": "7abd9508-9f9a-4ee7-8d8c-2269a5131b05",
     "showTitle": false,
     "tableResultSettingsMap": {},
     "title": ""
    }
   },
   "source": [
    "%md\n",
    "### Impacto do aumento da Taxa de Juros na Carteira de Crédito dos bancos"
   ]
  },
  {
   "cell_type": "code",
   "execution_count": 0,
   "metadata": {
    "application/vnd.databricks.v1+cell": {
     "cellMetadata": {
      "byteLimit": 2048000,
      "rowLimit": 10000
     },
     "collapsed": true,
     "inputWidgets": {},
     "nuid": "bd1e22c3-51c9-4d24-8a59-0c0cd0b714af",
     "showTitle": false,
     "tableResultSettingsMap": {},
     "title": ""
    }
   },
   "outputs": [],
   "source": [
    "from pyspark.sql import SparkSession\n",
    "import requests\n",
    "\n",
    "spark.sql('CREATE DATABASE IF NOT EXISTS dlt_bacen;') "
   ]
  },
  {
   "cell_type": "code",
   "execution_count": 0,
   "metadata": {
    "application/vnd.databricks.v1+cell": {
     "cellMetadata": {
      "byteLimit": 2048000,
      "rowLimit": 10000
     },
     "collapsed": true,
     "inputWidgets": {},
     "nuid": "9c777e3c-0966-411b-b09a-08125690aac2",
     "showTitle": false,
     "tableResultSettingsMap": {},
     "title": ""
    }
   },
   "outputs": [],
   "source": [
    "# TAXA DE JUROS ACUMULADA (SELIC)\n",
    "\n",
    "codigo = '1178'\n",
    "api = 'https://api.bcb.gov.br/dados/serie/bcdata.sgs.{}/dados?formato=json'.format(codigo)\n",
    "\n",
    "spark = SparkSession.builder.appName('Bacen').getOrCreate()\n",
    "requisicao = requests.get(api)\n",
    "\n",
    "data = requisicao.json()\n",
    "df = spark.createDataFrame(data)\n",
    "\n",
    "df.createOrReplaceTempView('selic')\n",
    "\n",
    "query = spark.sql(\"\"\"\n",
    "WITH DataIdeal AS (\n",
    "    SELECT\n",
    "        DATE_TRUNC('month', TO_DATE(data, 'dd/MM/yyyy')) AS MesAno,\n",
    "        MIN(TO_DATE(data, 'dd/MM/yyyy')) AS DataAntiga\n",
    "    FROM selic\n",
    "    WHERE TO_DATE(data, 'dd/MM/yyyy') >= '2000-03-01'\n",
    "    GROUP BY DATE_TRUNC('month', TO_DATE(data, 'dd/MM/yyyy'))\n",
    ")\n",
    "SELECT\n",
    "    a.DataAntiga AS Mothn_year,\n",
    "    TRY_CAST(REPLACE(b.valor, ',', '.') AS DECIMAL(10, 2)) AS Tx_Selic\n",
    "FROM DataIdeal a\n",
    "JOIN selic b ON TO_DATE(b.data, 'dd/MM/yyyy') = a.DataAntiga\n",
    "ORDER BY a.DataAntiga;\n",
    "\"\"\")\n",
    "\n",
    "query.write.mode('overwrite').saveAsTable('dlt_bacen.tb_selic_history')\n",
    "\n",
    "query.display()"
   ]
  },
  {
   "cell_type": "code",
   "execution_count": 0,
   "metadata": {
    "application/vnd.databricks.v1+cell": {
     "cellMetadata": {
      "byteLimit": 2048000,
      "rowLimit": 10000
     },
     "collapsed": true,
     "inputWidgets": {},
     "nuid": "e02a37cd-279d-4432-991c-183daafdd276",
     "showTitle": false,
     "tableResultSettingsMap": {
      "0": {
       "filterBlob": "{\"filterGroups\":[],\"syncTimestamp\":1740431174156}",
       "tableResultIndex": 0
      }
     },
     "title": ""
    }
   },
   "outputs": [],
   "source": [
    "# TAXA DE INADIMPLÊNCIA\n",
    "\n",
    "codigo = '13673'\n",
    "api = 'https://api.bcb.gov.br/dados/serie/bcdata.sgs.{}/dados?formato=json'.format(codigo)\n",
    "\n",
    "spark = SparkSession.builder.appName('Bacen').getOrCreate()\n",
    "requisicao = requests.get(api)\n",
    "\n",
    "data = requisicao.json()\n",
    "df = spark.createDataFrame(data)\n",
    "\n",
    "df.createOrReplaceTempView('inadimplencia')\n",
    "\n",
    "query = spark.sql(\"\"\"\n",
    "SELECT\n",
    "    TO_DATE(data, 'dd/MM/yyyy') AS Month_year,\n",
    "    TRY_CAST(REPLACE(valor, ',', '.') AS DECIMAL(10, 2)) AS Tx_Inad\n",
    "FROM inadimplencia;\n",
    "\"\"\")                       \n",
    "\n",
    "query.write.mode('overwrite').saveAsTable('dlt_bacen.tb_inad_history')\n",
    "\n",
    "query.display()"
   ]
  },
  {
   "cell_type": "code",
   "execution_count": 0,
   "metadata": {
    "application/vnd.databricks.v1+cell": {
     "cellMetadata": {
      "byteLimit": 2048000,
      "rowLimit": 10000
     },
     "collapsed": true,
     "inputWidgets": {},
     "nuid": "ed1d8f4e-a8af-42b5-93d8-13efa435b1e3",
     "showTitle": false,
     "tableResultSettingsMap": {},
     "title": ""
    }
   },
   "outputs": [],
   "source": [
    "# TAXA MÉDIA DE JUROS DE CRÉDITO \n",
    "\n",
    "codigo = '20714'\n",
    "api = 'https://api.bcb.gov.br/dados/serie/bcdata.sgs.{}/dados?formato=json'.format(codigo)\n",
    "\n",
    "spark = SparkSession.builder.appName('Bacen').getOrCreate()\n",
    "requisicao = requests.get(api)\n",
    "\n",
    "data = requisicao.json()\n",
    "df = spark.createDataFrame(data)\n",
    "\n",
    "df.createOrReplaceTempView('credito')\n",
    "\n",
    "query = spark.sql(\"\"\"\n",
    "SELECT\n",
    "    TO_DATE(data, 'dd/MM/yyyy') AS Mothn_year,\n",
    "    TRY_CAST(REPLACE(valor, ',', '.') AS DECIMAL(10, 2)) AS Tx_credit\n",
    "FROM credito\n",
    "\"\"\")\n",
    "\n",
    "query.write.mode('overwrite').saveAsTable('dlt_bacen.tb_credit_history')\n",
    "\n",
    "query.display()"
   ]
  },
  {
   "cell_type": "code",
   "execution_count": 0,
   "metadata": {
    "application/vnd.databricks.v1+cell": {
     "cellMetadata": {
      "byteLimit": 2048000,
      "rowLimit": 10000
     },
     "collapsed": true,
     "inputWidgets": {},
     "nuid": "2ad62953-966a-4da0-8feb-5a016644dfb4",
     "showTitle": false,
     "tableResultSettingsMap": {},
     "title": ""
    }
   },
   "outputs": [],
   "source": [
    "analyze = spark.sql(\"\"\"\n",
    "SELECT\n",
    "  a.Mothn_year,\n",
    "  a.Tx_credit,\n",
    "  b.Tx_Inad\n",
    "FROM\n",
    "  dlt_bacen.tb_credit_history a\n",
    "  LEFT JOIN dlt_bacen.tb_inad_history b ON a.Mothn_year = b.Month_year\n",
    "ORDER BY\n",
    "  a.Mothn_year \n",
    "\"\"\")\n",
    "\n",
    "analyze.display()"
   ]
  },
  {
   "cell_type": "code",
   "execution_count": 0,
   "metadata": {
    "application/vnd.databricks.v1+cell": {
     "cellMetadata": {
      "byteLimit": 2048000,
      "rowLimit": 10000
     },
     "inputWidgets": {},
     "nuid": "d62d18d1-1f54-484c-98ce-bf66c07dc2b3",
     "showTitle": false,
     "tableResultSettingsMap": {},
     "title": ""
    }
   },
   "outputs": [],
   "source": [
    "import pandas as pd\n",
    "import matplotlib.pyplot as plt\n",
    "\n",
    "analyze_pd = analyze.toPandas()\n",
    "\n",
    "plt.figure(figsize=(12, 6))\n",
    "plt.plot(analyze_pd['Mothn_year'], analyze_pd['Tx_credit'], label='Taxa de Crédito')\n",
    "plt.plot(analyze_pd['Mothn_year'], analyze_pd['Tx_Inad'], label='Taxa de Inadimplência')\n",
    "\n",
    "plt.xlabel('Mês e Ano')\n",
    "plt.ylabel('Taxa')\n",
    "plt.title('Evolução das Taxas ao Longo do Tempo')\n",
    "plt.legend()\n",
    "plt.grid(True)\n",
    "plt.show()"
   ]
  }
 ],
 "metadata": {
  "application/vnd.databricks.v1+notebook": {
   "computePreferences": null,
   "dashboards": [],
   "environmentMetadata": {
    "base_environment": "",
    "environment_version": "2"
   },
   "language": "python",
   "notebookMetadata": {
    "mostRecentlyExecutedCommandWithImplicitDF": {
     "commandId": 6200999217649637,
     "dataframes": [
      "_sqldf"
     ]
    },
    "pythonIndentUnit": 4
   },
   "notebookName": "Analyze",
   "widgets": {}
  },
  "language_info": {
   "name": "python"
  }
 },
 "nbformat": 4,
 "nbformat_minor": 0
}
